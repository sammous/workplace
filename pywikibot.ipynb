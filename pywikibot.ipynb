{
 "cells": [
  {
   "cell_type": "code",
   "execution_count": 90,
   "metadata": {},
   "outputs": [
    {
     "name": "stdout",
     "output_type": "stream",
     "text": [
      "'past events and their record as studied by the science of history'\n"
     ]
    },
    {
     "name": "stderr",
     "output_type": "stream",
     "text": [
      "WARNING: /home/sami/.local/lib/python3.6/site-packages/ipykernel_launcher.py:7: DeprecationWarning: Instead of using kwargs from Request.__init__, parameters for the request to the API should be added via the \"parameters\" parameter.\n",
      "  import sys\n",
      "\n"
     ]
    }
   ],
   "source": [
    "from pywikibot.data import api\n",
    "import pywikibot\n",
    "import pprint\n",
    "\n",
    "def get_items(site, itemtitle):\n",
    "    params = { 'action' :'wbsearchentities' , 'format' : 'json' , 'language' : 'fr', 'type' : 'item', 'search': itemtitle}\n",
    "    request = api.Request(site=site,**params)\n",
    "    return request.submit()\n",
    "\n",
    "def get_item(site, wdItem, token):\n",
    "    request = api.Request(site=site,\n",
    "                      action='wbgetentities',\n",
    "                      format='json',\n",
    "                      ids=wdItem)    \n",
    "    return request.submit()\n",
    "\n",
    "def prettyPrint(variable):\n",
    "    pp = pprint.PrettyPrinter(indent=4)\n",
    "    pp.pprint(variable)\n",
    "\n",
    "# Login to wikidata\n",
    "site = pywikibot.Site(\"wikidata\", \"wikidata\")\n",
    "repo = site.data_repository()\n",
    "wikidataEntries = getItems(site, \"history\")\n",
    "# Print the different Wikidata entries to the screen\n",
    "prettyPrint(wikidataEntries['search'][-2]['description'])\n",
    "\n",
    "# Print each wikidata entry as an object\n",
    "#for wdEntry in wikidataEntries[\"search\"]:\n",
    "#   prettyPrint(getItem(site, wdEntry[\"id\"], token))"
   ]
  },
  {
   "cell_type": "code",
   "execution_count": 45,
   "metadata": {
    "scrolled": true
   },
   "outputs": [
    {
     "name": "stdout",
     "output_type": "stream",
     "text": [
      "Q11862829\n",
      "Q268592\n"
     ]
    }
   ],
   "source": [
    "for c in pywikibot.ItemPage(repo, 'Q21198').get()['claims']['P31']:\n",
    "    print(c.getTarget().id)"
   ]
  },
  {
   "cell_type": "code",
   "execution_count": 115,
   "metadata": {
    "scrolled": true
   },
   "outputs": [
    {
     "name": "stderr",
     "output_type": "stream",
     "text": [
      "WARNING: /home/sami/.local/lib/python3.6/site-packages/ipykernel_launcher.py:7: DeprecationWarning: Instead of using kwargs from Request.__init__, parameters for the request to the API should be added via the \"parameters\" parameter.\n",
      "  import sys\n",
      "\n"
     ]
    },
    {
     "name": "stdout",
     "output_type": "stream",
     "text": [
      "{'repository': '', 'id': 'Q309', 'concepturi': 'http://www.wikidata.org/entity/Q309', 'title': 'Q309', 'pageid': 496, 'url': '//www.wikidata.org/wiki/Q309', 'label': 'history', 'description': 'umbrella term covering the record of past events and their study', 'match': {'type': 'label', 'language': 'en', 'text': 'history'}}\n"
     ]
    }
   ],
   "source": [
    "import re\n",
    "\n",
    "r_en = re.compile(r'(field|stud|academic|discipline|science)(y\\b|ies\\b|ied\\b|\\b|s\\b)', re.IGNORECASE)\n",
    "\n",
    "def get_academic_entity(site, search):\n",
    "    items = get_items(site, search)\n",
    "    for item in items['search']:\n",
    "        try:\n",
    "            if r_en.search(item['description']):\n",
    "                return item\n",
    "        except:\n",
    "            pass\n",
    "\n",
    "def get_id_from_properties(repo, entity_id, property_id='P31'):\n",
    "    \"\"\"yield Q id of the entity from the specific property\"\"\"\n",
    "    claims = pywikibot.ItemPage(repo, entity_id).get()['claims']\n",
    "    if property_id in claims:\n",
    "        for item in  claims[property_id]:\n",
    "            yield item.getTarget().id\n",
    "    else:\n",
    "        raise KeyError('Property {} is missing'.format(property_id))\n",
    "\n",
    "print(get_academic_entity(site, 'history'))"
   ]
  },
  {
   "cell_type": "code",
   "execution_count": 119,
   "metadata": {},
   "outputs": [
    {
     "data": {
      "text/plain": [
       "102"
      ]
     },
     "execution_count": 119,
     "metadata": {},
     "output_type": "execute_result"
    }
   ],
   "source": [
    "len(wos)"
   ]
  },
  {
   "cell_type": "code",
   "execution_count": 79,
   "metadata": {},
   "outputs": [
    {
     "name": "stderr",
     "output_type": "stream",
     "text": [
      "51805it [00:36, 1431.44it/s]\n"
     ]
    }
   ],
   "source": [
    "from pymongo import MongoClient\n",
    "\n",
    "client = MongoClient('localhost', 27017)\n",
    "db = client.istex\n",
    "springer = db.springer\n",
    "\n",
    "import tqdm\n",
    "scopus = set()\n",
    "wos = set()\n",
    "sciencemetrix = set()\n",
    "inist= set()\n",
    "for i in tqdm.tqdm(springer.find({'categories': {'$exists': True}, 'abstract': {'$exists': True}, 'title': {'$exists': True}, 'language': 'eng'})):\n",
    "            for ar, v in i['categories'].items():\n",
    "                if ar == 'scopus':\n",
    "                    for el in v:\n",
    "                        scopus.add(el)\n",
    "                if ar == 'wos':\n",
    "                    for el in v:\n",
    "                        wos.add(el)\n",
    "                if ar == 'scienceMetrix':\n",
    "                    for el in v:\n",
    "                        sciencemetrix.add(el)\n",
    "                if ar == 'inist':\n",
    "                    for el in v:\n",
    "                        inist.add(el)"
   ]
  },
  {
   "cell_type": "code",
   "execution_count": 117,
   "metadata": {
    "scrolled": true
   },
   "outputs": [
    {
     "name": "stderr",
     "output_type": "stream",
     "text": [
      "WARNING: /home/sami/.local/lib/python3.6/site-packages/ipykernel_launcher.py:7: DeprecationWarning: Instead of using kwargs from Request.__init__, parameters for the request to the API should be added via the \"parameters\" parameter.\n",
      "  import sys\n",
      "\n"
     ]
    },
    {
     "name": "stdout",
     "output_type": "stream",
     "text": [
      "philosophy\n",
      "bioethics\n",
      "Pollution\n",
      "electrical engineering\n",
      "earth sciences\n",
      "astronomy\n",
      "ophthalmology\n",
      "sociology\n",
      "mathematics\n",
      "dermatology\n",
      "chemistry\n",
      "nuclear physics\n",
      "analytical chemistry\n",
      "linguistics\n",
      "applied science\n",
      "microbiology\n",
      "organic chemistry\n",
      "Learning sciences\n",
      "ethnology\n",
      "physics\n"
     ]
    }
   ],
   "source": [
    "for x in list(map(lambda x: x.split('- ')[1],list(inist))):\n",
    "    if get_academic_entity(site, x):\n",
    "        print(get_academic_entity(site, x)['label'])"
   ]
  },
  {
   "cell_type": "code",
   "execution_count": 120,
   "metadata": {},
   "outputs": [
    {
     "name": "stderr",
     "output_type": "stream",
     "text": [
      "WARNING: /home/sami/.local/lib/python3.6/site-packages/ipykernel_launcher.py:7: DeprecationWarning: Instead of using kwargs from Request.__init__, parameters for the request to the API should be added via the \"parameters\" parameter.\n",
      "  import sys\n",
      "\n"
     ]
    },
    {
     "name": "stdout",
     "output_type": "stream",
     "text": [
      "linguistics\n",
      "social science\n",
      "demography\n",
      "ecology\n",
      "microscopy\n",
      "mathematics\n",
      "psychiatry\n",
      "evolutionary biology\n",
      "ophthalmology\n",
      "cell biology\n",
      "Forestry\n",
      "microbiology\n",
      "environmental studies\n",
      "mineralogy\n",
      "pediatrics\n",
      "entomology\n",
      "quantum thermodynamics\n",
      "social work\n",
      "logic\n",
      "pathology\n",
      "dermatology\n",
      "neuroscience\n",
      "economics\n",
      "biology\n",
      "physiology\n",
      "geography\n",
      "biophysics\n",
      "science\n",
      "botany\n",
      "mechanics\n"
     ]
    }
   ],
   "source": [
    "for x in list(map(lambda x: x.split('- ')[1],list(wos))):\n",
    "    if get_academic_entity(site, x):\n",
    "        print(get_academic_entity(site, x)['label'])"
   ]
  },
  {
   "cell_type": "code",
   "execution_count": 121,
   "metadata": {},
   "outputs": [
    {
     "name": "stderr",
     "output_type": "stream",
     "text": [
      "WARNING: /home/sami/.local/lib/python3.6/site-packages/ipykernel_launcher.py:7: DeprecationWarning: Instead of using kwargs from Request.__init__, parameters for the request to the API should be added via the \"parameters\" parameter.\n",
      "  import sys\n",
      "\n"
     ]
    },
    {
     "name": "stdout",
     "output_type": "stream",
     "text": [
      "logic\n",
      "life sciences\n",
      "environmental science\n",
      "materials science\n",
      "biochemistry\n",
      "chemistry\n",
      "cell biology\n",
      "theoretical computer science\n",
      "neuroscience\n",
      "history and philosophy of science\n",
      "mechanical engineering\n",
      "pharmaceutical sciences\n",
      "biophysics\n",
      "microbiology\n",
      "applied mathematics\n",
      "Health Professions Education\n",
      "dermatology\n",
      "food science\n",
      "Astronomy and Astrophysics Decadal Survey\n",
      "physiology\n",
      "psychology\n",
      "chemical engineering\n",
      "oceanography\n",
      "ecology\n",
      "physical science\n",
      "environmental chemistry\n",
      "demography\n",
      "computer science\n",
      "artificial intelligence\n",
      "environmental engineering\n",
      "pharmacology\n",
      "Chiropractic\n",
      "atmospheric sciences\n",
      "Computational Mathematics and Mathematical Physics\n",
      "genetics\n",
      "social science\n",
      "organic chemistry\n",
      "ophthalmology\n",
      "pedagogy\n",
      "analytical chemistry\n",
      "analysis\n",
      "social science\n",
      "engineering\n",
      "mathematics\n",
      "epidemiology\n",
      "botany\n",
      "inorganic chemistry\n",
      "Pollution\n",
      "Forestry\n",
      "Instrumentation\n",
      "philosophy\n",
      "Bioengineering & Translational Medicine\n",
      "Internal Medicine and Medical Investigation\n",
      "soil science\n",
      "histology\n",
      "Medical Laboratory Technology Journal\n",
      "human–computer interaction\n",
      "Decision Sciences Branch\n"
     ]
    }
   ],
   "source": [
    "for x in list(map(lambda x: x.split('- ')[1],list(scopus))):\n",
    "    if get_academic_entity(site, x):\n",
    "        print(get_academic_entity(site, x)['label'])"
   ]
  },
  {
   "cell_type": "code",
   "execution_count": 123,
   "metadata": {},
   "outputs": [
    {
     "name": "stderr",
     "output_type": "stream",
     "text": [
      "WARNING: /home/sami/.local/lib/python3.6/site-packages/ipykernel_launcher.py:7: DeprecationWarning: Instead of using kwargs from Request.__init__, parameters for the request to the API should be added via the \"parameters\" parameter.\n",
      "  import sys\n",
      "\n"
     ]
    },
    {
     "name": "stdout",
     "output_type": "stream",
     "text": [
      "epidemiology\n",
      "Economic Theory\n",
      "natural science\n",
      "operations research\n",
      "applied mathematics\n",
      "analytical chemistry\n",
      "general physics\n",
      "social work\n",
      "acoustics\n",
      "pedagogy\n",
      "evolutionary biology\n",
      "clinical psychology\n",
      "Business & Management Studies: An International Journal\n",
      "food science\n",
      "economics\n",
      "ecology\n",
      "physiology\n",
      "chemistry\n",
      "psychiatry\n",
      "social science\n",
      "pathology\n",
      "biology\n",
      "geology\n",
      "Forestry\n",
      "biophysics\n",
      "applied science\n",
      "engineering\n",
      "microbiology\n",
      "entomology\n",
      "clinical medicine\n",
      "philosophy\n"
     ]
    }
   ],
   "source": [
    "for x in list(map(lambda x: x.split('- ')[1],list(sciencemetrix))):\n",
    "    if get_academic_entity(site, x):\n",
    "        print(get_academic_entity(site, x)['label'])"
   ]
  },
  {
   "cell_type": "code",
   "execution_count": 144,
   "metadata": {},
   "outputs": [
    {
     "name": "stderr",
     "output_type": "stream",
     "text": [
      "WARNING: /home/sami/.local/lib/python3.6/site-packages/ipykernel_launcher.py:7: DeprecationWarning: Instead of using kwargs from Request.__init__, parameters for the request to the API should be added via the \"parameters\" parameter.\n",
      "  import sys\n",
      "\n"
     ]
    }
   ],
   "source": [
    "db = client.wikidata\n",
    "coll = db.science\n",
    "\n",
    "ressource = {'inist': inist, 'sciencemetrix': sciencemetrix, 'wos': wos, 'scopus': scopus}\n",
    "\n",
    "for i, j in ressource.items():\n",
    "    elements = list(map(lambda x: x.split('- ')[1],list(j)))\n",
    "    for el in elements:\n",
    "        if get_academic_entity(site, el):\n",
    "            item = get_academic_entity(site, el)\n",
    "            record = {'label': item['label'], '_id': item['id'], 'description': item['description'], 'nomenclature': [{'source': i, 'label': el}]}\n",
    "            if coll.count({'_id': item['id']}) > 0:\n",
    "                coll.update_one({'_id': item['id']}, {'$push':{'nomenclature': {'source': i, 'label': el}}})\n",
    "            else:\n",
    "                coll.insert_one(record)"
   ]
  },
  {
   "cell_type": "code",
   "execution_count": 156,
   "metadata": {},
   "outputs": [
    {
     "data": {
      "text/plain": [
       "'pediatrics'"
      ]
     },
     "execution_count": 156,
     "metadata": {},
     "output_type": "execute_result"
    }
   ],
   "source": [
    "def get_info_from_id(site, q_id, language):\n",
    "    details = pywikibot.ItemPage(site, q_id).get()\n",
    "    label = details['labels'][language]\n",
    "    description = details['descriptions'][language]\n",
    "    record = {'_id': q_id,}\n",
    "    if 'P279' in details['claims']:\n",
    "        subclass_of = details['claims']"
   ]
  },
  {
   "cell_type": "code",
   "execution_count": 159,
   "metadata": {},
   "outputs": [
    {
     "data": {
      "text/plain": [
       "{'en': 'field of medicine dealing with the care of children',\n",
       " 'fr': 'branche de la médecine ayant trait au soin des enfants',\n",
       " 'es': 'rama de la medicina que se ocupa del cuidado de los niños',\n",
       " 'it': 'branca della medicina che si occupa della salute dei bambini',\n",
       " 'de': 'Lehre von der Entwicklung des kindlichen und jugendlichen Organismus',\n",
       " 'fi': 'lapsuusiälle ominaiset sairaudet',\n",
       " 'az': 'Tibbin şöbəsi'}"
      ]
     },
     "execution_count": 159,
     "metadata": {},
     "output_type": "execute_result"
    }
   ],
   "source": [
    " pywikibot.ItemPage(site, 'Q123028').get()['descriptions']"
   ]
  },
  {
   "cell_type": "code",
   "execution_count": null,
   "metadata": {},
   "outputs": [],
   "source": []
  }
 ],
 "metadata": {
  "kernelspec": {
   "display_name": "Python 3",
   "language": "python",
   "name": "python3"
  },
  "language_info": {
   "codemirror_mode": {
    "name": "ipython",
    "version": 3
   },
   "file_extension": ".py",
   "mimetype": "text/x-python",
   "name": "python",
   "nbconvert_exporter": "python",
   "pygments_lexer": "ipython3",
   "version": "3.6.5"
  }
 },
 "nbformat": 4,
 "nbformat_minor": 2
}

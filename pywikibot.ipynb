{
 "cells": [
  {
   "cell_type": "code",
   "execution_count": 22,
   "metadata": {},
   "outputs": [
    {
     "name": "stderr",
     "output_type": "stream",
     "text": [
      "WARNING: /home/sami/.local/lib/python3.6/site-packages/ipykernel_launcher.py:7: DeprecationWarning: Instead of using kwargs from Request.__init__, parameters for the request to the API should be added via the \"parameters\" parameter.\n",
      "  import sys\n",
      "\n"
     ]
    },
    {
     "name": "stdout",
     "output_type": "stream",
     "text": [
      "{   'search': [   {   'aliases': ['science sociale'],\n",
      "                      'concepturi': 'http://www.wikidata.org/entity/Q34749',\n",
      "                      'description': 'academic discipline concerned with '\n",
      "                                     'society and the relationships',\n",
      "                      'id': 'Q34749',\n",
      "                      'label': 'social science',\n",
      "                      'match': {   'language': 'fr',\n",
      "                                   'text': 'science sociale',\n",
      "                                   'type': 'alias'},\n",
      "                      'pageid': 37458,\n",
      "                      'repository': '',\n",
      "                      'title': 'Q34749',\n",
      "                      'url': '//www.wikidata.org/wiki/Q34749'}],\n",
      "    'searchinfo': {'search': 'science sociale'},\n",
      "    'success': 1}\n"
     ]
    }
   ],
   "source": [
    "from pywikibot.data import api\n",
    "import pywikibot\n",
    "import pprint\n",
    "\n",
    "def getItems(site, itemtitle):\n",
    "    params = { 'action' :'wbsearchentities' , 'format' : 'json' , 'language' : 'en', 'type' : 'item', 'search': itemtitle}\n",
    "    request = api.Request(site=site,**params)\n",
    "    return request.submit()\n",
    "\n",
    "def getItem(site, wdItem, token):\n",
    "    request = api.Request(site=site,\n",
    "                      action='wbgetentities',\n",
    "                      format='json',\n",
    "                      ids=wdItem)    \n",
    "    return request.submit()\n",
    "\n",
    "def prettyPrint(variable):\n",
    "    pp = pprint.PrettyPrinter(indent=4)\n",
    "    pp.pprint(variable)\n",
    "\n",
    "# Login to wikidata\n",
    "site = pywikibot.Site(\"wikidata\", \"wikidata\")\n",
    "repo = site.data_repository()\n",
    "wikidataEntries = getItems(site, \"science sociale\")\n",
    "# Print the different Wikidata entries to the screen\n",
    "prettyPrint(wikidataEntries)\n",
    "\n",
    "# Print each wikidata entry as an object\n",
    "#for wdEntry in wikidataEntries[\"search\"]:\n",
    "#   prettyPrint(getItem(site, wdEntry[\"id\"], token))"
   ]
  },
  {
   "cell_type": "code",
   "execution_count": 40,
   "metadata": {
    "scrolled": true
   },
   "outputs": [
    {
     "name": "stdout",
     "output_type": "stream",
     "text": [
      "[[wikidata:Q11862829]]\n",
      "[[wikidata:Q268592]]\n"
     ]
    }
   ],
   "source": [
    "for c in pywikibot.ItemPage(repo, 'Q21198').get()['claims']['P31']:\n",
    "    print(c.getTarget())"
   ]
  },
  {
   "cell_type": "code",
   "execution_count": null,
   "metadata": {},
   "outputs": [],
   "source": [
    "def get_info_from_qid(qid):\n",
    "    "
   ]
  }
 ],
 "metadata": {
  "kernelspec": {
   "display_name": "Python 3",
   "language": "python",
   "name": "python3"
  },
  "language_info": {
   "codemirror_mode": {
    "name": "ipython",
    "version": 3
   },
   "file_extension": ".py",
   "mimetype": "text/x-python",
   "name": "python",
   "nbconvert_exporter": "python",
   "pygments_lexer": "ipython3",
   "version": "3.6.5"
  }
 },
 "nbformat": 4,
 "nbformat_minor": 2
}

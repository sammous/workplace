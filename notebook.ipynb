{
 "cells": [
  {
   "cell_type": "code",
   "execution_count": 108,
   "metadata": {
    "_cell_guid": "b1076dfc-b9ad-4769-8c92-a6c4dae69d19",
    "_uuid": "8f2839f25d086af736a60e9eeb907d3b93b6e0e5"
   },
   "outputs": [],
   "source": [
    "# This Python 3 environment comes with many helpful analytics libraries installed\n",
    "# It is defined by the kaggle/python docker image: https://github.com/kaggle/docker-python\n",
    "# For example, here's several helpful packages to load in \n",
    "\n",
    "import numpy as np # linear algebra\n",
    "import pandas as pd # data processing, CSV file I/O (e.g. pd.read_csv)\n",
    "import xgboost\n",
    "from sklearn import model_selection, cross_validation\n",
    "from sklearn.metrics import accuracy_score, roc_auc_score, precision_score\n",
    "from sklearn.metrics import average_precision_score\n",
    "from sklearn.preprocessing import LabelEncoder\n",
    "from sklearn.grid_search import GridSearchCV\n",
    "from sklearn.cross_validation import *\n",
    "# Input data files are available in the \"../input/\" directory.\n",
    "# For example, running this (by clicking run or pressing Shift+Enter) will list the files in the input directory\n",
    "\n",
    "# Any results you write to the current directory are saved as output."
   ]
  },
  {
   "cell_type": "code",
   "execution_count": 109,
   "metadata": {
    "_cell_guid": "79c7e3d0-c299-4dcb-8224-4455121ee9b0",
    "_uuid": "d629ff2d2480ee46fbb7e2d37f6b5fab8052498a"
   },
   "outputs": [],
   "source": [
    "train_csv = pd.read_csv('train_cap2018.csv')"
   ]
  },
  {
   "cell_type": "code",
   "execution_count": 110,
   "metadata": {},
   "outputs": [
    {
     "data": {
      "text/plain": [
       "MATTR    80.010985\n",
       "MSTTR    79.223728\n",
       "dtype: float64"
      ]
     },
     "execution_count": 110,
     "metadata": {},
     "output_type": "execute_result"
    }
   ],
   "source": [
    "# get the number of missing data points per column\n",
    "missing_values_count = train_csv.isnull().sum()\n",
    "\n",
    "#percent of the data missing for columns containing missing values\n",
    "missing_values_count[missing_values_count != 0] / train_csv.shape[0] *100"
   ]
  },
  {
   "cell_type": "code",
   "execution_count": 111,
   "metadata": {
    "_cell_guid": "d5388189-58d1-452c-88f1-621b32878fb7",
    "_uuid": "69ec380a0793607d58fb70721b9eb361b36bef67"
   },
   "outputs": [],
   "source": [
    "train_cols = train_csv.columns.tolist()\n",
    "#we drop high missing values columns\n",
    "train_cols.remove(\"MATTR\")\n",
    "train_cols.remove(\"MSTTR\")\n",
    "train_cols.remove(\"text\")\n",
    "train_cols.remove(\"fulltext\")\n",
    "train_cols.remove(\"level1\")\n",
    "target = \"level1\"\n",
    "\n",
    "Y = train_csv[target].astype('str')\n",
    "label_encoder = LabelEncoder()\n",
    "label_encoder = label_encoder.fit(Y)\n",
    "label_encoded_y = label_encoder.transform(Y)"
   ]
  },
  {
   "cell_type": "code",
   "execution_count": 124,
   "metadata": {
    "_cell_guid": "79ae22a5-52cc-4b18-83cb-e4858be2288e",
    "_uuid": "6282f3183c2b7cf59c70d21ea08b133447b05cb6"
   },
   "outputs": [
    {
     "name": "stdout",
     "output_type": "stream",
     "text": [
      "Start cross validation\n",
      "Best number of trees = 888\n",
      "Fit on the trainingsdata\n"
     ]
    },
    {
     "data": {
      "text/plain": [
       "XGBClassifier(base_score=0.5, booster='gbtree', colsample_bylevel=1,\n",
       "       colsample_bytree=0.7, gamma=0, learning_rate=0.01, max_delta_step=0,\n",
       "       max_depth=8, min_child_weight=11, missing=None, n_estimators=888,\n",
       "       n_jobs=6, n_thread=4, nthread=None, num_class=6,\n",
       "       objective='multi:softprob', random_state=0, reg_alpha=0,\n",
       "       reg_lambda=1, scale_pos_weight=1, seed=1337, silent=[1],\n",
       "       subsample=0.7)"
      ]
     },
     "execution_count": 124,
     "metadata": {},
     "output_type": "execute_result"
    }
   ],
   "source": [
    "seed = 7\n",
    "test_size = 0.33\n",
    "X_train, X_test, y_train, y_test = cross_validation.train_test_split(train_csv[train_cols], label_encoded_y, test_size=test_size, random_state=seed, stratify=label_encoded_y)\n",
    "# fit model no training data\n",
    "\n",
    "parameters = {'objective':'multi:softprob',\n",
    "              'n_jobs':6,\n",
    "              'n_thread': 4,\n",
    "              'num_class': 6,\n",
    "              'learning_rate': 0.01, #so called `eta` value\n",
    "              'max_depth': 8,\n",
    "              'min_child_weight': 11,\n",
    "              'silent': [1],\n",
    "              'subsample': 0.7,\n",
    "              'colsample_bytree': 0.7,\n",
    "              'n_estimators': 1000, #number of trees, change it to 1000 for better results\n",
    "              'seed': 1337}\n",
    "\n",
    "xgtrain = xgboost.DMatrix(X_train, label=y_train)\n",
    "model = xgboost.XGBClassifier(**parameters)\n",
    "xgb_param = model.get_xgb_params()\n",
    "#do cross validation\n",
    "print ('Start cross validation')\n",
    "cvresult = xgboost.cv(xgb_param, xgtrain, num_boost_round=5000, nfold=5, metrics=['merror'],\n",
    "     early_stopping_rounds=50, stratified=True, seed=1301)\n",
    "\n",
    "print('Best number of trees = {}'.format(cvresult.shape[0]))\n",
    "model.set_params(n_estimators=cvresult.shape[0])\n",
    "print('Fit on the trainingsdata')\n",
    "model.fit(X_train, y_train, eval_metric='merror')"
   ]
  },
  {
   "cell_type": "code",
   "execution_count": 125,
   "metadata": {
    "_cell_guid": "98ea2946-c31e-4702-848a-b6a5d8bfcf10",
    "_uuid": "e766210328baf536fbc9a823e996ca34de801489",
    "scrolled": false
   },
   "outputs": [
    {
     "name": "stdout",
     "output_type": "stream",
     "text": [
      "XGBClassifier(base_score=0.5, booster='gbtree', colsample_bylevel=1,\n",
      "       colsample_bytree=0.7, gamma=0, learning_rate=0.01, max_delta_step=0,\n",
      "       max_depth=8, min_child_weight=11, missing=None, n_estimators=888,\n",
      "       n_jobs=6, n_thread=4, nthread=None, num_class=6,\n",
      "       objective='multi:softprob', random_state=0, reg_alpha=0,\n",
      "       reg_lambda=1, scale_pos_weight=1, seed=1337, silent=[1],\n",
      "       subsample=0.7)\n",
      "Accuracy: 75.22%\n"
     ]
    },
    {
     "name": "stderr",
     "output_type": "stream",
     "text": [
      "/home/sami/.virtualenvs/jupyter/local/lib/python2.7/site-packages/sklearn/preprocessing/label.py:151: DeprecationWarning: The truth value of an empty array is ambiguous. Returning False, but in future this will result in an error. Use `array.size > 0` to check that an array is not empty.\n",
      "  if diff:\n"
     ]
    }
   ],
   "source": [
    "print(model)\n",
    "# make predictions for test data\n",
    "y_pred = model.predict(X_test)\n",
    "predictions = [round(value) for value in y_pred]\n",
    "# evaluate predictions\n",
    "accuracy = accuracy_score(y_test, predictions)\n",
    "print(\"Accuracy: %.2f%%\" % (accuracy * 100.0))"
   ]
  },
  {
   "cell_type": "code",
   "execution_count": 126,
   "metadata": {},
   "outputs": [
    {
     "data": {
      "text/plain": [
       "array([[3200,  419,   92,   34,    4,    0],\n",
       "       [ 403, 1791,  314,   29,    0,    0],\n",
       "       [  64,  276, 1276,  150,   11,    0],\n",
       "       [  16,   36,  210,  472,   37,    0],\n",
       "       [   3,    5,   16,   97,   41,    0],\n",
       "       [   1,    0,    1,   10,    5,    0]])"
      ]
     },
     "execution_count": 126,
     "metadata": {},
     "output_type": "execute_result"
    }
   ],
   "source": [
    "from sklearn.metrics import confusion_matrix\n",
    "confusion_matrix(y_test, predictions)"
   ]
  }
 ],
 "metadata": {
  "kernelspec": {
   "display_name": "Python 2",
   "language": "python",
   "name": "python2"
  },
  "language_info": {
   "codemirror_mode": {
    "name": "ipython",
    "version": 2
   },
   "file_extension": ".py",
   "mimetype": "text/x-python",
   "name": "python",
   "nbconvert_exporter": "python",
   "pygments_lexer": "ipython2",
   "version": "2.7.12"
  }
 },
 "nbformat": 4,
 "nbformat_minor": 1
}
